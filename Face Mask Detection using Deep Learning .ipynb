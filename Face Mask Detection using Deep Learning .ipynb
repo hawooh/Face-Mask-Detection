{
 "cells": [
  {
   "cell_type": "code",
   "execution_count": 2,
   "id": "7c340bb3-0766-4a65-a968-0c6d959eee9d",
   "metadata": {},
   "outputs": [
    {
     "name": "stdout",
     "output_type": "stream",
     "text": [
      "Path to dataset files: C:\\Users\\Olaoye Boluwatife\\.cache\\kagglehub\\datasets\\belsonraja\\face-mask-dataset-with-and-without-mask\\versions\\3\n"
     ]
    }
   ],
   "source": [
    "import kagglehub\n",
    "\n",
    "# Download latest version\n",
    "path = kagglehub.dataset_download(\"belsonraja/face-mask-dataset-with-and-without-mask\")\n",
    "\n",
    "print(\"Path to dataset files:\", path)"
   ]
  },
  {
   "cell_type": "code",
   "execution_count": 4,
   "id": "bdcf95d2-31d9-4d53-9ed9-231438cd6291",
   "metadata": {},
   "outputs": [],
   "source": [
    "import os\n",
    "import shutil\n",
    "import numpy as np\n",
    "from sklearn.model_selection import train_test_split\n",
    "from tensorflow.keras.preprocessing.image import ImageDataGenerator\n",
    "from tensorflow.keras.models import Sequential\n",
    "from tensorflow.keras.layers import Conv2D, MaxPooling2D, Flatten, Dense, Dropout"
   ]
  },
  {
   "cell_type": "code",
   "execution_count": 5,
   "id": "3cc57ebb-014a-4427-b79a-0f353b278106",
   "metadata": {},
   "outputs": [],
   "source": [
    "# Path to dataset\n",
    "dataset_path = r\"C:\\Users\\Olaoye Boluwatife\\.cache\\kagglehub\\datasets\\belsonraja\\face-mask-dataset-with-and-without-mask\\versions\\3\""
   ]
  },
  {
   "cell_type": "code",
   "execution_count": 6,
   "id": "dc970211-b29d-4583-8fb1-47f9849425eb",
   "metadata": {},
   "outputs": [],
   "source": [
    "# Create directories for train, val, test splits\n",
    "base_dir = r\"C:\\Users\\Olaoye Boluwatife\\.cache\\kagglehub\\datasets\\belsonraja\\face-mask-dataset-with-and-without-mask\\versions\\3\"  # Replace with your desired output path\n",
    "train_dir = os.path.join(base_dir, \"train\")\n",
    "val_dir = os.path.join(base_dir, \"val\")\n",
    "test_dir = os.path.join(base_dir, \"test\")"
   ]
  },
  {
   "cell_type": "code",
   "execution_count": 7,
   "id": "febae646-4684-4795-aeb7-c1462709948b",
   "metadata": {},
   "outputs": [],
   "source": [
    "# Ensure the directories exist\n",
    "os.makedirs(train_dir, exist_ok=True)\n",
    "os.makedirs(val_dir, exist_ok=True)\n",
    "os.makedirs(test_dir, exist_ok=True)"
   ]
  },
  {
   "cell_type": "code",
   "execution_count": 8,
   "id": "4d903a38-38a3-4035-ac75-274cf0aee184",
   "metadata": {},
   "outputs": [
    {
     "ename": "FileNotFoundError",
     "evalue": "[WinError 3] The system cannot find the path specified: 'C:\\\\Users\\\\Olaoye Boluwatife\\\\.cache\\\\kagglehub\\\\datasets\\\\belsonraja\\\\face-mask-dataset-with-and-without-mask\\\\versions\\\\3\\\\with_mask'",
     "output_type": "error",
     "traceback": [
      "\u001b[1;31m---------------------------------------------------------------------------\u001b[0m",
      "\u001b[1;31mFileNotFoundError\u001b[0m                         Traceback (most recent call last)",
      "Cell \u001b[1;32mIn[8], line 11\u001b[0m\n\u001b[0;32m      9\u001b[0m \u001b[38;5;28;01mfor\u001b[39;00m \u001b[38;5;28mcls\u001b[39m \u001b[38;5;129;01min\u001b[39;00m classes:\n\u001b[0;32m     10\u001b[0m     cls_path \u001b[38;5;241m=\u001b[39m os\u001b[38;5;241m.\u001b[39mpath\u001b[38;5;241m.\u001b[39mjoin(dataset_path, \u001b[38;5;28mcls\u001b[39m)\n\u001b[1;32m---> 11\u001b[0m     images \u001b[38;5;241m=\u001b[39m os\u001b[38;5;241m.\u001b[39mlistdir(cls_path)\n\u001b[0;32m     12\u001b[0m     images \u001b[38;5;241m=\u001b[39m [os\u001b[38;5;241m.\u001b[39mpath\u001b[38;5;241m.\u001b[39mjoin(cls_path, img) \u001b[38;5;28;01mfor\u001b[39;00m img \u001b[38;5;129;01min\u001b[39;00m images]\n\u001b[0;32m     14\u001b[0m     \u001b[38;5;66;03m# Split into train, val, test (70%, 15%, 15%)\u001b[39;00m\n",
      "\u001b[1;31mFileNotFoundError\u001b[0m: [WinError 3] The system cannot find the path specified: 'C:\\\\Users\\\\Olaoye Boluwatife\\\\.cache\\\\kagglehub\\\\datasets\\\\belsonraja\\\\face-mask-dataset-with-and-without-mask\\\\versions\\\\3\\\\with_mask'"
     ]
    }
   ],
   "source": [
    "# Class subdirectories (with_mask, without_mask)\n",
    "classes = [\"with_mask\", \"without_mask\"]\n",
    "for cls in classes:\n",
    "    os.makedirs(os.path.join(train_dir, cls), exist_ok=True)\n",
    "    os.makedirs(os.path.join(val_dir, cls), exist_ok=True)\n",
    "    os.makedirs(os.path.join(test_dir, cls), exist_ok=True)\n",
    "\n",
    "# Split data into train, val, and test sets\n",
    "for cls in classes:\n",
    "    cls_path = os.path.join(dataset_path, cls)\n",
    "    images = os.listdir(cls_path)\n",
    "    images = [os.path.join(cls_path, img) for img in images]\n",
    "\n",
    "    # Split into train, val, test (70%, 15%, 15%)\n",
    "    train_images, temp_images = train_test_split(images, test_size=0.3, random_state=42)\n",
    "    val_images, test_images = train_test_split(temp_images, test_size=0.5, random_state=42)\n",
    "\n",
    "    # Move files to respective directories\n",
    "    for img in train_images:\n",
    "        shutil.copy(img, os.path.join(train_dir, cls))\n",
    "    for img in val_images:\n",
    "        shutil.copy(img, os.path.join(val_dir, cls))\n",
    "    for img in test_images:\n",
    "        shutil.copy(img, os.path.join(test_dir, cls))\n",
    "\n",
    "print(\"Dataset split into train, val, and test sets.\")"
   ]
  },
  {
   "cell_type": "code",
   "execution_count": 9,
   "id": "8214a9d9-5596-4682-9543-10fb984b539f",
   "metadata": {},
   "outputs": [],
   "source": [
    "# Data Augmentation for Training\n",
    "train_datagen = ImageDataGenerator(\n",
    "    rescale=1.0 / 255,\n",
    "    rotation_range=20,\n",
    "    width_shift_range=0.2,\n",
    "    height_shift_range=0.2,\n",
    "    shear_range=0.2,\n",
    "    zoom_range=0.2,\n",
    "    horizontal_flip=True,\n",
    "    fill_mode=\"nearest\"\n",
    ")"
   ]
  },
  {
   "cell_type": "code",
   "execution_count": null,
   "id": "66d39f8b-2669-4b26-a4be-5c0e0d6aa292",
   "metadata": {},
   "outputs": [],
   "source": [
    "# Validation and Test Data Generators\n",
    "val_test_datagen = ImageDataGenerator(rescale=1.0 / 255)"
   ]
  },
  {
   "cell_type": "code",
   "execution_count": null,
   "id": "1d209392-40c0-4981-9ff3-e66b1f29246b",
   "metadata": {},
   "outputs": [],
   "source": [
    "# Data Generators\n",
    "train_generator = train_datagen.flow_from_directory(\n",
    "    train_dir,\n",
    "    target_size=(128, 128),\n",
    "    batch_size=32,\n",
    "    class_mode=\"binary\"\n",
    ")\n",
    "\n",
    "val_generator = val_test_datagen.flow_from_directory(\n",
    "    val_dir,\n",
    "    target_size=(128, 128),\n",
    "    batch_size=32,\n",
    "    class_mode=\"binary\"\n",
    ")\n",
    "\n",
    "test_generator = val_test_datagen.flow_from_directory(\n",
    "    test_dir,\n",
    "    target_size=(128, 128),\n",
    "    batch_size=32,\n",
    "    class_mode=\"binary\"\n",
    ")"
   ]
  },
  {
   "cell_type": "code",
   "execution_count": null,
   "id": "63c2fa64-196f-4bf7-a2c4-07fe9f290f7c",
   "metadata": {},
   "outputs": [],
   "source": [
    "# Model Definition\n",
    "model = Sequential([\n",
    "    Conv2D(32, (3, 3), activation='relu', input_shape=(128, 128, 3)),\n",
    "    MaxPooling2D(pool_size=(2, 2)),\n",
    "    Conv2D(64, (3, 3), activation='relu'),\n",
    "    MaxPooling2D(pool_size=(2, 2)),\n",
    "    Conv2D(128, (3, 3), activation='relu'),\n",
    "    MaxPooling2D(pool_size=(2, 2)),\n",
    "    Flatten(),\n",
    "    Dense(128, activation='relu'),\n",
    "    Dropout(0.5),\n",
    "    Dense(1, activation='sigmoid')  # Binary classification\n",
    "])"
   ]
  },
  {
   "cell_type": "code",
   "execution_count": null,
   "id": "2b56b8ea-b25f-4818-b004-a9508252d3b6",
   "metadata": {},
   "outputs": [],
   "source": [
    "# Compile the Model\n",
    "model.compile(optimizer='adam', loss='binary_crossentropy', metrics=['accuracy'])\n"
   ]
  },
  {
   "cell_type": "code",
   "execution_count": null,
   "id": "2007fb48-e953-4df0-843e-6a559d64ed16",
   "metadata": {},
   "outputs": [],
   "source": [
    "# Train the Model\n",
    "history = model.fit(\n",
    "    train_generator,\n",
    "    validation_data=val_generator,\n",
    "    epochs=10\n",
    ")"
   ]
  },
  {
   "cell_type": "code",
   "execution_count": null,
   "id": "69cfe228-5ebe-491e-84d3-161806a8bccd",
   "metadata": {},
   "outputs": [],
   "source": [
    "model.summary()"
   ]
  },
  {
   "cell_type": "code",
   "execution_count": null,
   "id": "0af0a7eb-9b93-427e-9bcb-c4f614ef140e",
   "metadata": {},
   "outputs": [],
   "source": [
    "# Evaluate the Model\n",
    "loss, accuracy = model.evaluate(test_generator)\n",
    "print(f\"Test Accuracy: {accuracy:.2f}\")"
   ]
  },
  {
   "cell_type": "code",
   "execution_count": null,
   "id": "080a4c6f-deaf-490a-ad49-ee79404c922b",
   "metadata": {},
   "outputs": [],
   "source": [
    "# Save the Model\n",
    "model.save('mask_detector_binary.h5')\n"
   ]
  },
  {
   "cell_type": "code",
   "execution_count": null,
   "id": "d07ba0ad-f5bb-4730-ae03-0d08f3afdc60",
   "metadata": {},
   "outputs": [],
   "source": [
    "from tensorflow.keras.preprocessing.image import ImageDataGenerator\n",
    "\n",
    "# Directory containing new images\n",
    "new_images_dir = 'C:\\\\Users\\\\Olaoye Boluwatife\\\\.cache\\\\kagglehub\\\\datasets\\\\belsonraja\\\\face-mask-dataset-with-and-without-mask\\\\versions\\\\3\\\\test\\\\with_mask\\\\with_mask (8).jpg'\n",
    "\n",
    "# Create a data generator for the new images\n",
    "data_gen = ImageDataGenerator(rescale=1.0 / 255)\n",
    "\n",
    "new_images_generator = data_gen.flow_from_directory(\n",
    "    new_images_dir,\n",
    "    target_size=(128, 128),\n",
    "    batch_size=32,\n",
    "    class_mode=None,  # No labels since we are predicting\n",
    "    shuffle=False\n",
    ")\n",
    "\n",
    "# Predict\n",
    "predictions = model.predict(new_images_generator)\n",
    "\n",
    "# Interpret results\n",
    "for i, pred in enumerate(predictions):\n",
    "    if pred[0] > 0.5:\n",
    "        print(f\"Image {i + 1}: Without Mask\")\n",
    "    else:\n",
    "        print(f\"Image {i + 1}: With Mask\")\n"
   ]
  },
  {
   "cell_type": "code",
   "execution_count": null,
   "id": "a32dc66d-ed8e-4ee2-b46e-3b8544e22837",
   "metadata": {},
   "outputs": [],
   "source": []
  }
 ],
 "metadata": {
  "kernelspec": {
   "display_name": "Python 3 (ipykernel)",
   "language": "python",
   "name": "python3"
  },
  "language_info": {
   "codemirror_mode": {
    "name": "ipython",
    "version": 3
   },
   "file_extension": ".py",
   "mimetype": "text/x-python",
   "name": "python",
   "nbconvert_exporter": "python",
   "pygments_lexer": "ipython3",
   "version": "3.12.7"
  }
 },
 "nbformat": 4,
 "nbformat_minor": 5
}
